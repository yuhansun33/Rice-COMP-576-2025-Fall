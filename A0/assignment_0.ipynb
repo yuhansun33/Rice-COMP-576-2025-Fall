{
 "cells": [
  {
   "cell_type": "code",
   "execution_count": 1,
   "id": "1a40b021",
   "metadata": {},
   "outputs": [],
   "source": [
    "import numpy as np\n",
    "import scipy.linalg\n"
   ]
  },
  {
   "cell_type": "code",
   "execution_count": 2,
   "id": "2db6006e",
   "metadata": {},
   "outputs": [],
   "source": [
    "a = np.array([5])\n",
    "b = np.array([1, 2, 3])\n",
    "c = np.array([[[1, 2], [3, 4]], [[5, 6], [7, 8]]])"
   ]
  },
  {
   "cell_type": "code",
   "execution_count": 3,
   "id": "fb8a81cc",
   "metadata": {},
   "outputs": [
    {
     "name": "stdout",
     "output_type": "stream",
     "text": [
      "a dimensions: 1\n",
      "b dimensions: 1\n",
      "c dimensions: 3\n"
     ]
    }
   ],
   "source": [
    "# np.ndim(a) or a.ndim\n",
    "print(\"a dimensions:\", np.ndim(a))\n",
    "print(\"b dimensions:\", b.ndim)\n",
    "print(\"c dimensions:\", c.ndim)\n"
   ]
  },
  {
   "cell_type": "code",
   "execution_count": 4,
   "id": "8bd213cb",
   "metadata": {},
   "outputs": [
    {
     "name": "stdout",
     "output_type": "stream",
     "text": [
      "a size: 1\n",
      "b size: 3\n",
      "c size: 8\n"
     ]
    }
   ],
   "source": [
    "# np.size(a) or a.size\n",
    "print(\"a size:\", np.size(a))\n",
    "print(\"b size:\", b.size)\n",
    "print(\"c size:\", c.size)"
   ]
  },
  {
   "cell_type": "code",
   "execution_count": 5,
   "id": "1d628679",
   "metadata": {},
   "outputs": [
    {
     "name": "stdout",
     "output_type": "stream",
     "text": [
      "a shape: (1,)\n",
      "b shape: (3,)\n",
      "c shape: (2, 2, 2)\n"
     ]
    }
   ],
   "source": [
    "# np.shape(a) or a.shape\n",
    "print(\"a shape:\", np.shape(a))\n",
    "print(\"b shape:\", b.shape)\n",
    "print(\"c shape:\", c.shape)"
   ]
  },
  {
   "cell_type": "code",
   "execution_count": 6,
   "id": "ac120bfa",
   "metadata": {},
   "outputs": [
    {
     "name": "stdout",
     "output_type": "stream",
     "text": [
      "a shape[0]: 1\n",
      "b shape[0]: 3\n",
      "c shape[0]: 2\n"
     ]
    }
   ],
   "source": [
    "# a.shape[n-1]\n",
    "print(\"a shape[0]:\", a.shape[0])\n",
    "print(\"b shape[0]:\", b.shape[0])\n",
    "print(\"c shape[0]:\", c.shape[0])"
   ]
  },
  {
   "cell_type": "code",
   "execution_count": 7,
   "id": "b8fff4c3",
   "metadata": {},
   "outputs": [
    {
     "name": "stdout",
     "output_type": "stream",
     "text": [
      "[[1. 2. 3.]\n",
      " [4. 5. 6.]]\n"
     ]
    }
   ],
   "source": [
    "# np.array([[1., 2., 3.], [4., 5., 6.]])\n",
    "d = np.array([[1., 2., 3.], [4., 5., 6.]])\n",
    "print(d)"
   ]
  },
  {
   "cell_type": "code",
   "execution_count": 8,
   "id": "19caacbe",
   "metadata": {},
   "outputs": [
    {
     "name": "stdout",
     "output_type": "stream",
     "text": [
      "[[ 1  2  3  4  5]\n",
      " [ 6  7 10 11 12]\n",
      " [ 8  9 13 14 15]]\n"
     ]
    }
   ],
   "source": [
    "# np.block([[a, b], [c, d]])\n",
    "a1 = np.array([[1, 2]])\n",
    "b1 = np.array([[3, 4, 5]])\n",
    "c1 = np.array([[6, 7], [8, 9]])\n",
    "d1 = np.array([[10, 11, 12], [13, 14, 15]])\n",
    "print(np.block([[a1, b1], [c1, d1]]))"
   ]
  },
  {
   "cell_type": "code",
   "execution_count": 9,
   "id": "bd9ae0cd",
   "metadata": {},
   "outputs": [
    {
     "name": "stdout",
     "output_type": "stream",
     "text": [
      "a:\n",
      " [[ 0  1  2  3  4  5  6  7  8  9]\n",
      " [10 11 12 13 14 15 16 17 18 19]\n",
      " [20 21 22 23 24 25 26 27 28 29]\n",
      " [30 31 32 33 34 35 36 37 38 39]\n",
      " [40 41 42 43 44 45 46 47 48 49]\n",
      " [50 51 52 53 54 55 56 57 58 59]]\n",
      "a[-1]:\n",
      " [50 51 52 53 54 55 56 57 58 59]\n",
      "a[1, 4]:\n",
      " 14\n",
      "a[1]:\n",
      " [10 11 12 13 14 15 16 17 18 19]\n",
      "a[1, :]:\n",
      " [10 11 12 13 14 15 16 17 18 19]\n"
     ]
    }
   ],
   "source": [
    "a = np.arange(60).reshape(6, 10)\n",
    "print(\"a:\\n\", a)\n",
    "\n",
    "# a[-1]\n",
    "print(\"a[-1]:\\n\", a[-1])\n",
    "# a[1, 4]\n",
    "print(\"a[1, 4]:\\n\", a[1, 4])\n",
    "# a[1] or a[1, :]\n",
    "print(\"a[1]:\\n\", a[1])\n",
    "print(\"a[1, :]:\\n\", a[1, :])\n"
   ]
  },
  {
   "cell_type": "code",
   "execution_count": 10,
   "id": "8b635a88",
   "metadata": {},
   "outputs": [
    {
     "name": "stdout",
     "output_type": "stream",
     "text": [
      "a[0:5]:\n",
      " [[ 0  1  2  3  4  5  6  7  8  9]\n",
      " [10 11 12 13 14 15 16 17 18 19]\n",
      " [20 21 22 23 24 25 26 27 28 29]\n",
      " [30 31 32 33 34 35 36 37 38 39]\n",
      " [40 41 42 43 44 45 46 47 48 49]]\n",
      "a[:5]:\n",
      " [[ 0  1  2  3  4  5  6  7  8  9]\n",
      " [10 11 12 13 14 15 16 17 18 19]\n",
      " [20 21 22 23 24 25 26 27 28 29]\n",
      " [30 31 32 33 34 35 36 37 38 39]\n",
      " [40 41 42 43 44 45 46 47 48 49]]\n",
      "a[0:5, :]:\n",
      " [[ 0  1  2  3  4  5  6  7  8  9]\n",
      " [10 11 12 13 14 15 16 17 18 19]\n",
      " [20 21 22 23 24 25 26 27 28 29]\n",
      " [30 31 32 33 34 35 36 37 38 39]\n",
      " [40 41 42 43 44 45 46 47 48 49]]\n",
      "a[-5:]:\n",
      " [[10 11 12 13 14 15 16 17 18 19]\n",
      " [20 21 22 23 24 25 26 27 28 29]\n",
      " [30 31 32 33 34 35 36 37 38 39]\n",
      " [40 41 42 43 44 45 46 47 48 49]\n",
      " [50 51 52 53 54 55 56 57 58 59]]\n",
      "a[0:3, 4:9]:\n",
      " [[ 4  5  6  7  8]\n",
      " [14 15 16 17 18]\n",
      " [24 25 26 27 28]]\n"
     ]
    }
   ],
   "source": [
    "# a[0:5] or a[:5] or a[0:5, :]\n",
    "print(\"a[0:5]:\\n\", a[0:5])\n",
    "print(\"a[:5]:\\n\", a[:5])\n",
    "print(\"a[0:5, :]:\\n\", a[0:5, :])\n",
    "# a[-5:]\n",
    "print(\"a[-5:]:\\n\", a[-5:])\n",
    "# a[0:3, 4:9]\n",
    "print(\"a[0:3, 4:9]:\\n\", a[0:3, 4:9])"
   ]
  },
  {
   "cell_type": "code",
   "execution_count": 11,
   "id": "d35de9af",
   "metadata": {},
   "outputs": [
    {
     "name": "stdout",
     "output_type": "stream",
     "text": [
      "a[np.ix_([1, 3, 4], [0, 2])]:\n",
      " [[10 12]\n",
      " [30 32]\n",
      " [40 42]]\n",
      "a[2:21:2,:]\n",
      " [[ 4  5]\n",
      " [ 8  9]\n",
      " [12 13]\n",
      " [16 17]\n",
      " [20 21]\n",
      " [24 25]\n",
      " [28 29]\n",
      " [32 33]\n",
      " [36 37]\n",
      " [40 41]]\n",
      "a[::2, :]\n",
      " [[ 0  1  2  3  4  5  6  7  8  9]\n",
      " [20 21 22 23 24 25 26 27 28 29]\n",
      " [40 41 42 43 44 45 46 47 48 49]]\n",
      "a[::-1,:]\n",
      " [[50 51 52 53 54 55 56 57 58 59]\n",
      " [40 41 42 43 44 45 46 47 48 49]\n",
      " [30 31 32 33 34 35 36 37 38 39]\n",
      " [20 21 22 23 24 25 26 27 28 29]\n",
      " [10 11 12 13 14 15 16 17 18 19]\n",
      " [ 0  1  2  3  4  5  6  7  8  9]]\n"
     ]
    }
   ],
   "source": [
    "# a[np.ix_([1, 3, 4], [0, 2])]\n",
    "print(\"a[np.ix_([1, 3, 4], [0, 2])]:\\n\", a[np.ix_([1, 3, 4], [0, 2])])\n",
    "# a[2:21:2,:]\n",
    "b = np.arange(46).reshape(23,2)\n",
    "print(\"a[2:21:2,:]\\n\", b[2:21:2,:])\n",
    "# a[::2, :]\n",
    "print(\"a[::2, :]\\n\", a[::2, :])\n",
    "# a[::-1,:]\n",
    "print(\"a[::-1,:]\\n\", a[::-1,:])\n"
   ]
  },
  {
   "cell_type": "code",
   "execution_count": 12,
   "id": "435aced3",
   "metadata": {},
   "outputs": [
    {
     "name": "stdout",
     "output_type": "stream",
     "text": [
      "a[np.r_[:len(a),0]]\n",
      " [[ 0  1  2  3  4  5  6  7  8  9]\n",
      " [10 11 12 13 14 15 16 17 18 19]\n",
      " [20 21 22 23 24 25 26 27 28 29]\n",
      " [30 31 32 33 34 35 36 37 38 39]\n",
      " [40 41 42 43 44 45 46 47 48 49]\n",
      " [50 51 52 53 54 55 56 57 58 59]\n",
      " [ 0  1  2  3  4  5  6  7  8  9]]\n"
     ]
    }
   ],
   "source": [
    "# a[np.r_[:len(a),0]]\n",
    "print(\"a[np.r_[:len(a),0]]\\n\", a[np.r_[:len(a),0]])\n"
   ]
  },
  {
   "cell_type": "code",
   "execution_count": 13,
   "id": "915a9b4a",
   "metadata": {},
   "outputs": [
    {
     "name": "stdout",
     "output_type": "stream",
     "text": [
      "a.transpose():\n",
      " [[ 0 10 20 30 40 50]\n",
      " [ 1 11 21 31 41 51]\n",
      " [ 2 12 22 32 42 52]\n",
      " [ 3 13 23 33 43 53]\n",
      " [ 4 14 24 34 44 54]\n",
      " [ 5 15 25 35 45 55]\n",
      " [ 6 16 26 36 46 56]\n",
      " [ 7 17 27 37 47 57]\n",
      " [ 8 18 28 38 48 58]\n",
      " [ 9 19 29 39 49 59]]\n",
      "a.T:\n",
      " [[ 0 10 20 30 40 50]\n",
      " [ 1 11 21 31 41 51]\n",
      " [ 2 12 22 32 42 52]\n",
      " [ 3 13 23 33 43 53]\n",
      " [ 4 14 24 34 44 54]\n",
      " [ 5 15 25 35 45 55]\n",
      " [ 6 16 26 36 46 56]\n",
      " [ 7 17 27 37 47 57]\n",
      " [ 8 18 28 38 48 58]\n",
      " [ 9 19 29 39 49 59]]\n"
     ]
    }
   ],
   "source": [
    "# a.transpose() or a.T\n",
    "print(\"a.transpose():\\n\", a.transpose())\n",
    "print(\"a.T:\\n\", a.T)"
   ]
  },
  {
   "cell_type": "code",
   "execution_count": 14,
   "id": "2891e770",
   "metadata": {},
   "outputs": [
    {
     "name": "stdout",
     "output_type": "stream",
     "text": [
      "a.conj().transpose():\n",
      " [[1.-0.j 4.-0.j]\n",
      " [2.-3.j 5.+6.j]]\n",
      "a.conj().T:\n",
      " [[1.-0.j 4.-0.j]\n",
      " [2.-3.j 5.+6.j]]\n"
     ]
    }
   ],
   "source": [
    "# a.conj().transpose() or a.conj().T\n",
    "b = np.array([[1, 2 + 3j], [4, 5 - 6j]])\n",
    "print(\"a.conj().transpose():\\n\", b.conj().transpose())\n",
    "print(\"a.conj().T:\\n\", b.conj().T)"
   ]
  },
  {
   "cell_type": "code",
   "execution_count": 15,
   "id": "049fe210",
   "metadata": {},
   "outputs": [
    {
     "name": "stdout",
     "output_type": "stream",
     "text": [
      "a @ b:\n",
      " [[19 22]\n",
      " [43 50]]\n",
      "a * b:\n",
      " [[ 5 12]\n",
      " [21 32]]\n",
      "a/b:\n",
      " [[0.2        0.33333333]\n",
      " [0.42857143 0.5       ]]\n",
      "a**3:\n",
      " [[ 1  8]\n",
      " [27 64]]\n"
     ]
    }
   ],
   "source": [
    "a = np.array([[1, 2], \n",
    "              [3, 4]])\n",
    "b = np.array([[5, 6], \n",
    "              [7, 8]])\n",
    "# a @ b\n",
    "print(\"a @ b:\\n\", a @ b)\n",
    "# a * b\n",
    "print(\"a * b:\\n\", a * b)\n",
    "# a/b\n",
    "print(\"a/b:\\n\", a/b)\n",
    "# a**3\n",
    "print(\"a**3:\\n\", a**3)"
   ]
  },
  {
   "cell_type": "code",
   "execution_count": 16,
   "id": "da792b80",
   "metadata": {},
   "outputs": [
    {
     "name": "stdout",
     "output_type": "stream",
     "text": [
      "(a > 0.5):\n",
      " [[ True  True]\n",
      " [ True  True]]\n",
      "np.nonzero(a > 0.5):\n",
      " (array([0, 0, 1, 1]), array([0, 1, 0, 1]))\n"
     ]
    }
   ],
   "source": [
    "# (a > 0.5)\n",
    "print(\"(a > 0.5):\\n\", a > 0.5)\n",
    "# np.nonzero(a > 0.5)\n",
    "print(\"np.nonzero(a > 0.5):\\n\", np.nonzero(a > 0.5))\n"
   ]
  },
  {
   "cell_type": "code",
   "execution_count": 17,
   "id": "cc65272c",
   "metadata": {},
   "outputs": [
    {
     "name": "stdout",
     "output_type": "stream",
     "text": [
      "v:\n",
      " [0.99309077 0.21100721 0.49209456 0.06805835 0.90144161]\n",
      "a[:,np.nonzero(v > 0.5)[0]]:\n",
      " [[ 0  4]\n",
      " [ 5  9]\n",
      " [10 14]\n",
      " [15 19]]\n",
      "a[:, v.T > 0.5]:\n",
      " [[ 0  4]\n",
      " [ 5  9]\n",
      " [10 14]\n",
      " [15 19]]\n"
     ]
    }
   ],
   "source": [
    "a = np.arange(20).reshape(4, 5)\n",
    "v = np.random.rand(5)\n",
    "print(\"v:\\n\", v)\n",
    "# a[:,np.nonzero(v > 0.5)[0]]\n",
    "print(\"a[:,np.nonzero(v > 0.5)[0]]:\\n\", a[:,np.nonzero(v > 0.5)[0]])\n",
    "# a[:, v.T > 0.5]\n",
    "print(\"a[:, v.T > 0.5]:\\n\", a[:, v.T > 0.5])"
   ]
  },
  {
   "cell_type": "code",
   "execution_count": 18,
   "id": "842fbd2d",
   "metadata": {},
   "outputs": [
    {
     "name": "stdout",
     "output_type": "stream",
     "text": [
      "a:\n",
      " [[0.21593117 0.61310789 0.44002009 0.98991923]\n",
      " [0.37950392 0.38372966 0.28116626 0.41677743]\n",
      " [0.52440592 0.84047539 0.59103237 0.86251337]]\n",
      "a[a < 0.5]=0:\n",
      " [[0.         0.61310789 0.         0.98991923]\n",
      " [0.         0.         0.         0.        ]\n",
      " [0.52440592 0.84047539 0.59103237 0.86251337]]\n",
      "b:\n",
      " [[0.11445385 0.78766592 0.55267946 0.01530934]\n",
      " [0.17882272 0.76533807 0.83694117 0.36160356]\n",
      " [0.14342303 0.70327922 0.78854804 0.35165755]]\n",
      "b * (b > 0.5):\n",
      " [[0.         0.78766592 0.55267946 0.        ]\n",
      " [0.         0.76533807 0.83694117 0.        ]\n",
      " [0.         0.70327922 0.78854804 0.        ]]\n",
      "a[:] = 3:\n",
      " [[3. 3. 3. 3.]\n",
      " [3. 3. 3. 3.]\n",
      " [3. 3. 3. 3.]]\n"
     ]
    }
   ],
   "source": [
    "a = np.random.rand(3, 4)\n",
    "print(\"a:\\n\", a)\n",
    "# a[a < 0.5]=0\n",
    "a[a < 0.5] = 0\n",
    "print(\"a[a < 0.5]=0:\\n\", a)\n",
    "\n",
    "b = np.random.rand(3, 4)\n",
    "print(\"b:\\n\", b)\n",
    "# a * (a > 0.5)\n",
    "print(\"b * (b > 0.5):\\n\", b * (b > 0.5))\n",
    "# a[:] = 3\n",
    "a[:] = 3\n",
    "print(\"a[:] = 3:\\n\", a)"
   ]
  },
  {
   "cell_type": "code",
   "execution_count": 19,
   "id": "c7a68ede",
   "metadata": {},
   "outputs": [
    {
     "name": "stdout",
     "output_type": "stream",
     "text": [
      "y:\n",
      " [[10 11 12 13]\n",
      " [20 21 22 23]\n",
      " [30 31 32 33]]\n",
      "y:\n",
      " [20 21 22 23]\n",
      "y:\n",
      " [10 11 12 13 20 21 22 23 30 31 32 33]\n"
     ]
    }
   ],
   "source": [
    "x = np.array([[10, 11, 12, 13],\n",
    "              [20, 21, 22, 23],\n",
    "              [30, 31, 32, 33]])\n",
    "# y = x.copy()\n",
    "y = x.copy()\n",
    "print(\"y:\\n\", y)\n",
    "# y = x[1, :].copy()\n",
    "y = x[1, :].copy()\n",
    "print(\"y:\\n\", y)\n",
    "# y = x.flatten()\n",
    "y = x.flatten()\n",
    "print(\"y:\\n\", y)\n"
   ]
  },
  {
   "cell_type": "code",
   "execution_count": 20,
   "id": "7ca00d7b",
   "metadata": {},
   "outputs": [
    {
     "name": "stdout",
     "output_type": "stream",
     "text": [
      "np.arange(1., 11.):\n",
      " [ 1.  2.  3.  4.  5.  6.  7.  8.  9. 10.]\n",
      "np.r_[1.:11.]:\n",
      " [ 1.  2.  3.  4.  5.  6.  7.  8.  9. 10.]\n",
      "np.r_[1:10:10j]:\n",
      " [ 1.  2.  3.  4.  5.  6.  7.  8.  9. 10.]\n",
      "np.arange(10.):\n",
      " [0. 1. 2. 3. 4. 5. 6. 7. 8. 9.]\n",
      "np.r_[:10.]:\n",
      " [0. 1. 2. 3. 4. 5. 6. 7. 8. 9.]\n",
      "np.r_[:9:10j]:\n",
      " [0. 1. 2. 3. 4. 5. 6. 7. 8. 9.]\n",
      "np.arange(1.,11.)[:, np.newaxis]:\n",
      " [[ 1.]\n",
      " [ 2.]\n",
      " [ 3.]\n",
      " [ 4.]\n",
      " [ 5.]\n",
      " [ 6.]\n",
      " [ 7.]\n",
      " [ 8.]\n",
      " [ 9.]\n",
      " [10.]]\n"
     ]
    }
   ],
   "source": [
    "# np.arange(1., 11.) or np.r_[1.:11.] or np.r_[1:10:10j]\n",
    "print(\"np.arange(1., 11.):\\n\", np.arange(1., 11.))\n",
    "print(\"np.r_[1.:11.]:\\n\", np.r_[1.:11.])\n",
    "print(\"np.r_[1:10:10j]:\\n\", np.r_[1:10:10j])\n",
    "# np.arange(10.) or np.r_[:10.] or np.r_[:9:10j]\n",
    "print(\"np.arange(10.):\\n\", np.arange(10.))\n",
    "print(\"np.r_[:10.]:\\n\", np.r_[:10.])\n",
    "print(\"np.r_[:9:10j]:\\n\", np.r_[:9:10j])\n",
    "# np.arange(1.,11.)[:, np.newaxis]\n",
    "print(\"np.arange(1.,11.)[:, np.newaxis]:\\n\", np.arange(1.,11.)[:, np.newaxis])\n",
    "\n"
   ]
  },
  {
   "cell_type": "code",
   "execution_count": 21,
   "id": "d231caac",
   "metadata": {},
   "outputs": [
    {
     "name": "stdout",
     "output_type": "stream",
     "text": [
      "np.zeros((3, 4)):\n",
      " [[0. 0. 0. 0.]\n",
      " [0. 0. 0. 0.]\n",
      " [0. 0. 0. 0.]]\n",
      "np.zeros((3, 4, 5)):\n",
      " [[[0. 0. 0. 0. 0.]\n",
      "  [0. 0. 0. 0. 0.]\n",
      "  [0. 0. 0. 0. 0.]\n",
      "  [0. 0. 0. 0. 0.]]\n",
      "\n",
      " [[0. 0. 0. 0. 0.]\n",
      "  [0. 0. 0. 0. 0.]\n",
      "  [0. 0. 0. 0. 0.]\n",
      "  [0. 0. 0. 0. 0.]]\n",
      "\n",
      " [[0. 0. 0. 0. 0.]\n",
      "  [0. 0. 0. 0. 0.]\n",
      "  [0. 0. 0. 0. 0.]\n",
      "  [0. 0. 0. 0. 0.]]]\n",
      "np.ones((3, 4)):\n",
      " [[1. 1. 1. 1.]\n",
      " [1. 1. 1. 1.]\n",
      " [1. 1. 1. 1.]]\n",
      "np.eye(3):\n",
      " [[1. 0. 0.]\n",
      " [0. 1. 0.]\n",
      " [0. 0. 1.]]\n"
     ]
    }
   ],
   "source": [
    "# np.zeros((3, 4))\n",
    "print(\"np.zeros((3, 4)):\\n\", np.zeros((3, 4)))\n",
    "# np.zeros((3, 4, 5))\n",
    "print(\"np.zeros((3, 4, 5)):\\n\", np.zeros((3, 4, 5)))\n",
    "# np.ones((3, 4))\n",
    "print(\"np.ones((3, 4)):\\n\", np.ones((3, 4)))\n",
    "# np.eye(3)\n",
    "print(\"np.eye(3):\\n\", np.eye(3))"
   ]
  },
  {
   "cell_type": "code",
   "execution_count": 22,
   "id": "cc4e935b",
   "metadata": {},
   "outputs": [
    {
     "name": "stdout",
     "output_type": "stream",
     "text": [
      "np.diag(a):\n",
      " [1 5 9]\n",
      "np.diag(a, 0):\n",
      " [1 5 9]\n"
     ]
    }
   ],
   "source": [
    "a = np.array([[1, 2, 3],\n",
    "              [4, 5, 6],\n",
    "              [7, 8, 9]])\n",
    "# np.diag(a)\n",
    "print(\"np.diag(a):\\n\", np.diag(a))\n",
    "# np.diag(v, 0)\n",
    "print(\"np.diag(a, 0):\\n\", np.diag(a, 0))"
   ]
  },
  {
   "cell_type": "code",
   "execution_count": 23,
   "id": "c68ae2f6",
   "metadata": {},
   "outputs": [
    {
     "data": {
      "text/plain": [
       "array([[0.77395605, 0.43887844, 0.85859792, 0.69736803],\n",
       "       [0.09417735, 0.97562235, 0.7611397 , 0.78606431],\n",
       "       [0.12811363, 0.45038594, 0.37079802, 0.92676499]])"
      ]
     },
     "execution_count": 23,
     "metadata": {},
     "output_type": "execute_result"
    }
   ],
   "source": [
    "from numpy.random import default_rng\n",
    "rng = default_rng(42)\n",
    "rng.random((3, 4))"
   ]
  },
  {
   "cell_type": "code",
   "execution_count": 24,
   "id": "d6cec8d4",
   "metadata": {},
   "outputs": [
    {
     "name": "stdout",
     "output_type": "stream",
     "text": [
      "np.linspace(1,3,4):\n",
      " [1.         1.66666667 2.33333333 3.        ]\n",
      "np.mgrid[0:9.,0:6.]:\n",
      " [[[0. 0. 0. 0. 0. 0.]\n",
      "  [1. 1. 1. 1. 1. 1.]\n",
      "  [2. 2. 2. 2. 2. 2.]\n",
      "  [3. 3. 3. 3. 3. 3.]\n",
      "  [4. 4. 4. 4. 4. 4.]\n",
      "  [5. 5. 5. 5. 5. 5.]\n",
      "  [6. 6. 6. 6. 6. 6.]\n",
      "  [7. 7. 7. 7. 7. 7.]\n",
      "  [8. 8. 8. 8. 8. 8.]]\n",
      "\n",
      " [[0. 1. 2. 3. 4. 5.]\n",
      "  [0. 1. 2. 3. 4. 5.]\n",
      "  [0. 1. 2. 3. 4. 5.]\n",
      "  [0. 1. 2. 3. 4. 5.]\n",
      "  [0. 1. 2. 3. 4. 5.]\n",
      "  [0. 1. 2. 3. 4. 5.]\n",
      "  [0. 1. 2. 3. 4. 5.]\n",
      "  [0. 1. 2. 3. 4. 5.]\n",
      "  [0. 1. 2. 3. 4. 5.]]]\n",
      "np.meshgrid(r_[0:9.],r_[0:6.]):\n",
      " (array([[0., 1., 2., 3., 4., 5., 6., 7., 8.],\n",
      "       [0., 1., 2., 3., 4., 5., 6., 7., 8.],\n",
      "       [0., 1., 2., 3., 4., 5., 6., 7., 8.],\n",
      "       [0., 1., 2., 3., 4., 5., 6., 7., 8.],\n",
      "       [0., 1., 2., 3., 4., 5., 6., 7., 8.],\n",
      "       [0., 1., 2., 3., 4., 5., 6., 7., 8.]]), array([[0., 0., 0., 0., 0., 0., 0., 0., 0.],\n",
      "       [1., 1., 1., 1., 1., 1., 1., 1., 1.],\n",
      "       [2., 2., 2., 2., 2., 2., 2., 2., 2.],\n",
      "       [3., 3., 3., 3., 3., 3., 3., 3., 3.],\n",
      "       [4., 4., 4., 4., 4., 4., 4., 4., 4.],\n",
      "       [5., 5., 5., 5., 5., 5., 5., 5., 5.]]))\n"
     ]
    }
   ],
   "source": [
    "# np.linspace(1,3,4)\n",
    "print(\"np.linspace(1,3,4):\\n\", np.linspace(1,3,4))\n",
    "# np.mgrid[0:9.,0:6.] or np.meshgrid(r_[0:9.],r_[0:6.])\n",
    "print(\"np.mgrid[0:9.,0:6.]:\\n\", np.mgrid[0:9.,0:6.])\n",
    "print(\"np.meshgrid(r_[0:9.],r_[0:6.]):\\n\", np.meshgrid(np.r_[0:9.],np.r_[0:6.]))\n",
    "\n"
   ]
  },
  {
   "cell_type": "code",
   "execution_count": 25,
   "id": "82547f93",
   "metadata": {},
   "outputs": [
    {
     "name": "stdout",
     "output_type": "stream",
     "text": [
      "np.ogrid[0:9.,0:6.]:\n",
      "y:\n",
      " [[0.]\n",
      " [1.]\n",
      " [2.]\n",
      " [3.]\n",
      " [4.]\n",
      " [5.]\n",
      " [6.]\n",
      " [7.]\n",
      " [8.]]\n",
      "x:\n",
      " [[0. 1. 2. 3. 4. 5.]]\n",
      "np.ix_(np.r_[0:9.],np.r_[0:6.]):\n",
      "y:\n",
      " [[0.]\n",
      " [1.]\n",
      " [2.]\n",
      " [3.]\n",
      " [4.]\n",
      " [5.]\n",
      " [6.]\n",
      " [7.]\n",
      " [8.]]\n",
      "x:\n",
      " [[0. 1. 2. 3. 4. 5.]]\n"
     ]
    }
   ],
   "source": [
    "# ogrid[0:9.,0:6.] or np.ix_(np.r_[0:9.],np.r_[0:6.])\n",
    "y, x = np.ogrid[0:9.,0:6.]\n",
    "print(\"np.ogrid[0:9.,0:6.]:\")\n",
    "print(\"y:\\n\", y)\n",
    "print(\"x:\\n\", x)\n",
    "y, x = np.ix_(np.r_[0:9.],np.r_[0:6.])\n",
    "print(\"np.ix_(np.r_[0:9.],np.r_[0:6.]):\")\n",
    "print(\"y:\\n\", y)\n",
    "print(\"x:\\n\", x)"
   ]
  },
  {
   "cell_type": "code",
   "execution_count": 26,
   "id": "77960582",
   "metadata": {},
   "outputs": [
    {
     "name": "stdout",
     "output_type": "stream",
     "text": [
      "\n",
      "np.meshgrid([1,2,4],[2,4,5]):\n",
      "x:\n",
      " [[1 2 4]\n",
      " [1 2 4]\n",
      " [1 2 4]]\n",
      "y:\n",
      " [[2 2 2]\n",
      " [4 4 4]\n",
      " [5 5 5]]\n",
      "\n",
      "np.ix_([1,2,4],[2,4,5]):\n",
      "ix_grid[0]:\n",
      " [[1]\n",
      " [2]\n",
      " [4]]\n",
      "ix_grid[1]:\n",
      " [[2 4 5]]\n"
     ]
    }
   ],
   "source": [
    "# np.meshgrid([1,2,4],[2,4,5])\n",
    "x, y = np.meshgrid([1,2,4],[2,4,5])\n",
    "print(\"\\nnp.meshgrid([1,2,4],[2,4,5]):\")\n",
    "print(\"x:\\n\", x)\n",
    "print(\"y:\\n\", y)\n",
    "\n",
    "# np.ix_([1,2,4],[2,4,5])\n",
    "# np.ix_ 建立一個開放網格，用於高效索引\n",
    "ix_grid = np.ix_([1,2,4],[2,4,5])\n",
    "print(\"\\nnp.ix_([1,2,4],[2,4,5]):\")\n",
    "print(\"ix_grid[0]:\\n\", ix_grid[0])\n",
    "print(\"ix_grid[1]:\\n\", ix_grid[1])"
   ]
  },
  {
   "cell_type": "code",
   "execution_count": 27,
   "id": "9075a9f3",
   "metadata": {},
   "outputs": [
    {
     "name": "stdout",
     "output_type": "stream",
     "text": [
      "np.tile(a, (2, 3)):\n",
      " [[0 1 0 1 0 1]\n",
      " [2 3 2 3 2 3]\n",
      " [0 1 0 1 0 1]\n",
      " [2 3 2 3 2 3]]\n",
      "np.concatenate((a,b),1):\n",
      " [[0 1 4 5]\n",
      " [2 3 6 7]]\n",
      "np.hstack((a,b)):\n",
      " [[0 1 4 5]\n",
      " [2 3 6 7]]\n",
      "np.column_stack((a,b)):\n",
      " [[0 1 4 5]\n",
      " [2 3 6 7]]\n",
      "np.c_[a,b]:\n",
      " [[0 1 4 5]\n",
      " [2 3 6 7]]\n"
     ]
    }
   ],
   "source": [
    "a = np.array([[0, 1], \n",
    "              [2, 3]])\n",
    "m, n = 2, 3\n",
    "\n",
    "# np.tile(a, (m, n))\n",
    "tiled_a = np.tile(a, (m, n))\n",
    "print(\"np.tile(a, (2, 3)):\\n\", tiled_a)\n",
    "\n",
    "b = np.array([[4, 5], \n",
    "              [6, 7]])\n",
    "\n",
    "# np.concatenate((a,b),1) or np.hstack((a,b)) or np.column_stack((a,b)) or np.c_[a,b]\n",
    "print(\"np.concatenate((a,b),1):\\n\", np.concatenate((a,b),1))\n",
    "print(\"np.hstack((a,b)):\\n\", np.hstack((a,b)))\n",
    "print(\"np.column_stack((a,b)):\\n\", np.column_stack((a,b)))\n",
    "print(\"np.c_[a,b]:\\n\", np.c_[a,b])"
   ]
  },
  {
   "cell_type": "code",
   "execution_count": 28,
   "id": "e3e7af01",
   "metadata": {},
   "outputs": [
    {
     "name": "stdout",
     "output_type": "stream",
     "text": [
      "np.concatenate((a,b)):\n",
      " [[0 1]\n",
      " [2 3]\n",
      " [4 5]\n",
      " [6 7]]\n",
      "np.vstack((a,b)):\n",
      " [[0 1]\n",
      " [2 3]\n",
      " [4 5]\n",
      " [6 7]]\n",
      "np.r_[a,b]:\n",
      " [[0 1]\n",
      " [2 3]\n",
      " [4 5]\n",
      " [6 7]]\n"
     ]
    }
   ],
   "source": [
    "# np.concatenate((a,b)) or np.vstack((a,b)) or np.r_[a,b]\n",
    "print(\"np.concatenate((a,b)):\\n\", np.concatenate((a,b)))\n",
    "print(\"np.vstack((a,b)):\\n\", np.vstack((a,b)))\n",
    "print(\"np.r_[a,b]:\\n\", np.r_[a,b])"
   ]
  },
  {
   "cell_type": "code",
   "execution_count": 29,
   "id": "b7d1391c",
   "metadata": {},
   "outputs": [
    {
     "name": "stdout",
     "output_type": "stream",
     "text": [
      "a.max():\n",
      " nan\n",
      "np.nanmax(a):\n",
      " 4.0\n",
      "a.max(0):\n",
      " [3 6]\n",
      "a.max(1):\n",
      " [6 4]\n",
      "np.maximum(a,b):\n",
      " [[5 6]\n",
      " [8 4]]\n"
     ]
    }
   ],
   "source": [
    "a = np.array([[1, 2], [np.nan, 4]])\n",
    "# a.max() or np.nanmax(a)\n",
    "print(\"a.max():\\n\", a.max())\n",
    "print(\"np.nanmax(a):\\n\", np.nanmax(a))\n",
    "\n",
    "\n",
    "a = np.array([[1, 6], \n",
    "              [3, 4]])\n",
    "b = np.array([[5, 2], \n",
    "              [8, 2]])\n",
    "# a.max(0)\n",
    "print(\"a.max(0):\\n\", a.max(0))\n",
    "# a.max(1)\n",
    "print(\"a.max(1):\\n\", a.max(1))\n",
    "# np.maximum(a,b)\n",
    "print(\"np.maximum(a,b):\\n\", np.maximum(a,b))\n"
   ]
  },
  {
   "cell_type": "code",
   "execution_count": 30,
   "id": "08a0353a",
   "metadata": {},
   "outputs": [
    {
     "name": "stdout",
     "output_type": "stream",
     "text": [
      "np.sqrt(v @ v):\n",
      " 13.0\n",
      "np.linalg.norm(v):\n",
      " 13.0\n"
     ]
    }
   ],
   "source": [
    "v = np.array([5, 12])\n",
    "# np.sqrt(v @ v) or np.linalg.norm(v)\n",
    "print(\"np.sqrt(v @ v):\\n\", np.sqrt(v @ v))\n",
    "print(\"np.linalg.norm(v):\\n\", np.linalg.norm(v))"
   ]
  },
  {
   "cell_type": "code",
   "execution_count": 31,
   "id": "f2d80f4b",
   "metadata": {},
   "outputs": [
    {
     "name": "stdout",
     "output_type": "stream",
     "text": [
      "logical_and(a,b):\n",
      " [[ True False]\n",
      " [False False]]\n",
      "np.logical_or(a,b):\n",
      " [[ True False]\n",
      " [ True  True]]\n"
     ]
    }
   ],
   "source": [
    "# a = np.array([[True, True], [False, False]])\n",
    "b = np.array([[True, False], \n",
    "              [True, False]])\n",
    "\n",
    "a = np.array([[2, 0], \n",
    "              [0, 7]])\n",
    "# logical_and(a,b)\n",
    "print(\"logical_and(a,b):\\n\", np.logical_and(a,b))\n",
    "# np.logical_or(a,b)\n",
    "print(\"np.logical_or(a,b):\\n\", np.logical_or(a,b))"
   ]
  },
  {
   "cell_type": "code",
   "execution_count": 32,
   "id": "99a88c03",
   "metadata": {},
   "outputs": [
    {
     "name": "stdout",
     "output_type": "stream",
     "text": [
      "a & b:\n",
      " [[0 0]\n",
      " [0 0]]\n",
      "a | b:\n",
      " [[3 0]\n",
      " [1 7]]\n"
     ]
    }
   ],
   "source": [
    "# a & b\n",
    "print(\"a & b:\\n\", a & b)\n",
    "# a | b\n",
    "print(\"a | b:\\n\", a | b)"
   ]
  },
  {
   "cell_type": "code",
   "execution_count": 33,
   "metadata": {},
   "outputs": [
    {
     "name": "stdout",
     "output_type": "stream",
     "text": [
      "linalg.inv(a):\n",
      " [[-2.   1. ]\n",
      " [ 1.5 -0.5]]\n",
      "linalg.pinv(a):\n",
      " [[0.04 0.08]\n",
      " [0.08 0.16]]\n",
      "np.linalg.matrix_rank(a):\n",
      " 1\n"
     ]
    }
   ],
   "source": [
    "a = np.array([[1, 2], \n",
    "              [3, 4]])\n",
    "\n",
    "# linalg.inv(a)\n",
    "print(\"linalg.inv(a):\\n\", np.linalg.inv(a))\n",
    "\n",
    "a = np.array([[1, 2], \n",
    "              [2, 4]])\n",
    "# linalg.pinv(a)\n",
    "print(\"linalg.pinv(a):\\n\", np.linalg.pinv(a))\n",
    "# np.linalg.matrix_rank(a)\n",
    "print(\"np.linalg.matrix_rank(a):\\n\", np.linalg.matrix_rank(a))"
   ]
  },
  {
   "cell_type": "code",
   "execution_count": 34,
   "id": "13bd4694",
   "metadata": {},
   "outputs": [
    {
     "name": "stdout",
     "output_type": "stream",
     "text": [
      "linalg.solve(a, b):\n",
      " [-4.   4.5]\n",
      "linalg.lstsq(a, b):\n",
      " (array([-6. ,  6.5]), np.float64(3.19835777064277e-30), 2, array([9.52551809, 0.51430058]))\n",
      "a.T x.T = b.T:\n",
      "\n",
      "x.T:\n",
      " (array([-1.,  2.]), array([], dtype=float64), 2, array([5.4649857 , 0.36596619]))\n",
      "x:\n",
      " [-1.  2.]\n"
     ]
    }
   ],
   "source": [
    "a = np.array([[1, 2], \n",
    "              [3, 4]])\n",
    "b = np.array([5, 6])\n",
    "\n",
    "# linalg.solve(a, b)\n",
    "print(\"linalg.solve(a, b):\\n\", scipy.linalg.solve(a, b))\n",
    "\n",
    "a = np.array([[1, 2], \n",
    "              [3, 4], \n",
    "              [5, 6]])\n",
    "b = np.array([7, 8, 9])\n",
    "# linalg.lstsq(a, b)\n",
    "print(\"linalg.lstsq(a, b):\\n\", scipy.linalg.lstsq(a, b))\n",
    "\n",
    "a = np.array([[1, 2], \n",
    "              [3, 4]])\n",
    "b = np.array([5, 6])\n",
    "# a.T x.T = b.T\n",
    "print(\"a.T x.T = b.T:\\n\")\n",
    "x_T = scipy.linalg.lstsq(a.T, b.T)\n",
    "print(\"x.T:\\n\", x_T)\n",
    "print(\"x:\\n\", x_T[0].T)"
   ]
  },
  {
   "cell_type": "code",
   "execution_count": 35,
   "id": "aeee8d8a",
   "metadata": {},
   "outputs": [
    {
     "name": "stdout",
     "output_type": "stream",
     "text": [
      "U:\n",
      " [[-0.37981138 -0.22710234 -0.89675406]\n",
      " [-0.8970194  -0.14646881  0.41701688]\n",
      " [-0.22605201  0.96279355 -0.14808469]]\n",
      "S:\n",
      " [5.67182376 1.90143866 0.46362298]\n",
      "Vh:\n",
      " [[-0.54142542 -0.80639889 -0.23786413]\n",
      " [-0.35052867 -0.04064625  0.93566957]\n",
      " [ 0.76419118 -0.58997349  0.26065901]]\n",
      "V:\n",
      " [[-0.54142542 -0.35052867  0.76419118]\n",
      " [-0.80639889 -0.04064625 -0.58997349]\n",
      " [-0.23786413  0.93566957  0.26065901]]\n",
      "linalg.cholesky(a):\n",
      " [[1.73205081 0.57735027]\n",
      " [0.         1.91485422]]\n"
     ]
    }
   ],
   "source": [
    "# U, S, Vh = linalg.svd(a); V = Vh.T\n",
    "a = np.array([[1., 2., 0], \n",
    "              [3., 4., 1.],\n",
    "              [0., 1., 2.]])\n",
    "U, S, Vh = scipy.linalg.svd(a)\n",
    "print(\"U:\\n\", U)\n",
    "print(\"S:\\n\", S)\n",
    "print(\"Vh:\\n\", Vh)\n",
    "V = Vh.T\n",
    "print(\"V:\\n\", V)\n",
    "\n",
    "a = np.array([[3, 1], \n",
    "              [1, 4]])\n",
    "# linalg.cholesky(a)\n",
    "print(\"linalg.cholesky(a):\\n\", scipy.linalg.cholesky(a))\n",
    "\n"
   ]
  },
  {
   "cell_type": "code",
   "execution_count": 36,
   "id": "19fa7573",
   "metadata": {},
   "outputs": [
    {
     "name": "stdout",
     "output_type": "stream",
     "text": [
      "linalg.eig(a):\n",
      "D:\n",
      " [3.+0.j 2.+0.j]\n",
      "V:\n",
      " [[0.89442719 0.70710678]\n",
      " [0.4472136  0.70710678]]\n",
      "linalg.eig(a, b):\n",
      "D:\n",
      " [1.5+0.8660254j 1.5-0.8660254j]\n",
      "V:\n",
      " [[0.70710678+0.j         0.70710678-0.j        ]\n",
      " [0.35355339-0.61237244j 0.35355339+0.61237244j]]\n"
     ]
    }
   ],
   "source": [
    "a = np.array([[4, -2],\n",
    "              [1,  1]])\n",
    "b = np.array([[2, 0],\n",
    "              [0, 1]])\n",
    "# D,V = linalg.eig(a)\n",
    "D,V = scipy.linalg.eig(a)\n",
    "print(\"linalg.eig(a):\")\n",
    "print(\"D:\\n\", D)\n",
    "print(\"V:\\n\", V)\n",
    "\n",
    "# D,V = linalg.eig(a, b)\n",
    "D,V = scipy.linalg.eig(a, b)\n",
    "print(\"linalg.eig(a, b):\")\n",
    "print(\"D:\\n\", D)\n",
    "print(\"V:\\n\", V)"
   ]
  },
  {
   "cell_type": "code",
   "execution_count": 37,
   "id": "8a7907c4",
   "metadata": {},
   "outputs": [
    {
     "name": "stdout",
     "output_type": "stream",
     "text": [
      "scipy.linalg.eigs(a, k=3):\n",
      "D:\n",
      " [ 4.81173769e+01+0.j -3.11737691e+00+0.j -7.16546119e-16+0.j]\n",
      "V:\n",
      " [[ 0.15407799+0.j -0.69075678+0.j -0.34245918+0.j]\n",
      " [ 0.28164446+0.j -0.37788926+0.j -0.09256558+0.j]\n",
      " [ 0.40921094+0.j -0.06502173+0.j  0.8637959 +0.j]\n",
      " [ 0.53677741+0.j  0.24784579+0.j -0.08005831+0.j]\n",
      " [ 0.66434388+0.j  0.56071331+0.j -0.34871282+0.j]]\n",
      "linalg.qr(a):\n",
      "Q:\n",
      " [[-0.05463584 -0.77266741 -0.3342565   0.53595995  0.03192997]\n",
      " [-0.21854335 -0.50223382  0.7275151  -0.27418803 -0.30909983]\n",
      " [-0.38245086 -0.23180022 -0.17229597 -0.5226233   0.7051092 ]\n",
      " [-0.54635836  0.03863337 -0.50092737 -0.27602911 -0.61063877]\n",
      " [-0.71026587  0.30906696  0.27996473  0.53688049  0.18269943]]\n",
      "R:\n",
      " [[-1.83030052e+01 -2.02152595e+01 -2.21275138e+01 -2.40397680e+01\n",
      "  -2.59520223e+01]\n",
      " [ 0.00000000e+00 -1.15900111e+00 -2.31800223e+00 -3.47700334e+00\n",
      "  -4.63600446e+00]\n",
      " [ 0.00000000e+00  0.00000000e+00 -9.17192574e-16 -2.71023948e-15\n",
      "  -3.04853629e-15]\n",
      " [ 0.00000000e+00  0.00000000e+00  0.00000000e+00  1.68324639e-15\n",
      "   1.77590207e-16]\n",
      " [ 0.00000000e+00  0.00000000e+00  0.00000000e+00  0.00000000e+00\n",
      "   1.56761329e-16]]\n"
     ]
    }
   ],
   "source": [
    "a = np.array([[1, 2, 3, 4, 5],\n",
    "              [4, 5, 6, 7, 8],\n",
    "              [7, 8, 9, 10, 11],\n",
    "              [10, 11, 12, 13, 14],\n",
    "              [13, 14, 15, 16, 17]])\n",
    "# D,V = eigs(a, k=3)\n",
    "D,V = scipy.sparse.linalg.eigs(a, k=3)\n",
    "print(\"scipy.linalg.eigs(a, k=3):\")\n",
    "print(\"D:\\n\", D)\n",
    "print(\"V:\\n\", V)\n",
    "\n",
    "# Q,R = linalg.qr(a)\n",
    "Q,R = scipy.linalg.qr(a)\n",
    "print(\"linalg.qr(a):\")\n",
    "print(\"Q:\\n\", Q)\n",
    "print(\"R:\\n\", R)"
   ]
  },
  {
   "cell_type": "code",
   "execution_count": 38,
   "id": "e32749dd",
   "metadata": {},
   "outputs": [
    {
     "name": "stdout",
     "output_type": "stream",
     "text": [
      "linalg.lu(a):\n",
      "P:\n",
      " [[0. 1. 0. 0. 0.]\n",
      " [0. 0. 0. 0. 1.]\n",
      " [0. 0. 1. 0. 0.]\n",
      " [0. 0. 0. 1. 0.]\n",
      " [1. 0. 0. 0. 0.]]\n",
      "L:\n",
      " [[ 1.          0.          0.          0.          0.        ]\n",
      " [ 0.07692308  1.          0.          0.          0.        ]\n",
      " [ 0.53846154  0.5         1.          0.          0.        ]\n",
      " [ 0.76923077  0.25        1.          1.          0.        ]\n",
      " [ 0.30769231  0.75        0.5        -0.          1.        ]]\n",
      "U:\n",
      " [[ 1.30000000e+01  1.40000000e+01  1.50000000e+01  1.60000000e+01\n",
      "   1.70000000e+01]\n",
      " [ 0.00000000e+00  9.23076923e-01  1.84615385e+00  2.76923077e+00\n",
      "   3.69230769e+00]\n",
      " [ 0.00000000e+00  0.00000000e+00  1.77635684e-15  3.55271368e-15\n",
      "   5.32907052e-15]\n",
      " [ 0.00000000e+00  0.00000000e+00  0.00000000e+00 -1.77635684e-15\n",
      "  -3.55271368e-15]\n",
      " [ 0.00000000e+00  0.00000000e+00  0.00000000e+00  0.00000000e+00\n",
      "   0.00000000e+00]]\n"
     ]
    }
   ],
   "source": [
    "# P,L,U = linalg.lu(a) where a == P@L@U\n",
    "P,L,U = scipy.linalg.lu(a)\n",
    "print(\"linalg.lu(a):\")\n",
    "print(\"P:\\n\", P)\n",
    "print(\"L:\\n\", L)\n",
    "print(\"U:\\n\", U)"
   ]
  },
  {
   "cell_type": "code",
   "execution_count": 39,
   "id": "d70cd829",
   "metadata": {},
   "outputs": [
    {
     "name": "stdout",
     "output_type": "stream",
     "text": [
      "cg(a, b):\n",
      "x:  (array([0.13333333, 0.46666667]), 0)\n",
      "np.fft.fft(a): \n",
      " [[ 5.+0.j  3.+0.j]\n",
      " [ 5.+0.j -3.+0.j]]\n",
      "np.fft.ifft(a): \n",
      " [[ 2.5+0.j  1.5+0.j]\n",
      " [ 2.5+0.j -1.5+0.j]]\n"
     ]
    }
   ],
   "source": [
    "from scipy.sparse.linalg import cg\n",
    "\n",
    "a = np.array([[4, 1],\n",
    "              [1, 4]])\n",
    "b = np.array([1, 2])\n",
    "# cg\n",
    "x = cg(a, b)\n",
    "print(\"cg(a, b):\")\n",
    "print(\"x: \", x)\n",
    "\n",
    "# np.fft.fft(a)\n",
    "print(\"np.fft.fft(a): \\n\", np.fft.fft(a))\n",
    "\n",
    "# np.fft.ifft(a)\n",
    "print(\"np.fft.ifft(a): \\n\", np.fft.ifft(a))"
   ]
  },
  {
   "cell_type": "code",
   "execution_count": 40,
   "id": "72b11c4b",
   "metadata": {},
   "outputs": [
    {
     "name": "stdout",
     "output_type": "stream",
     "text": [
      "np.sort(a): \n",
      " [[1 2 4]\n",
      " [3 5 6]]\n",
      "a.sort(axis=0): \n",
      " [[1 3 2]\n",
      " [5 4 6]]\n",
      "np.sort(a, axis=1): \n",
      " [[1 2 4]\n",
      " [3 5 6]]\n",
      "a.sort(axis=1): \n",
      " [[1 2 4]\n",
      " [3 5 6]]\n",
      "np.argsort(a[:, 0]): \n",
      "I: \n",
      " [1 0]\n",
      "b: \n",
      " [[1 3 6]\n",
      " [5 4 2]]\n"
     ]
    }
   ],
   "source": [
    "# np.sort(a) or a.sort(axis=0)\n",
    "a = np.array([[1, 4, 2], \n",
    "              [5, 3, 6]])\n",
    "print(\"np.sort(a): \\n\", np.sort(a))\n",
    "a.sort(axis=0)\n",
    "print(\"a.sort(axis=0): \\n\", a)\n",
    "\n",
    "# np.sort(a, axis=1) or a.sort(axis=1)\n",
    "a = np.array([[1, 4, 2], \n",
    "              [5, 3, 6]])\n",
    "\n",
    "print(\"np.sort(a, axis=1): \\n\", np.sort(a, axis=1))\n",
    "a.sort(axis=1)\n",
    "print(\"a.sort(axis=1): \\n\", a)\n",
    "\n",
    "\n",
    "# I = np.argsort(a[:, 0]); b = a[I,:]\n",
    "a = np.array([[5, 4, 2], \n",
    "              [1, 3, 6]])\n",
    "print(\"np.argsort(a[:, 0]): \")\n",
    "I = np.argsort(a[:, 0])\n",
    "b = a[I,:]\n",
    "print(\"I: \\n\", I)\n",
    "print(\"b: \\n\", b)"
   ]
  },
  {
   "cell_type": "code",
   "execution_count": 41,
   "id": "75efd1a6",
   "metadata": {},
   "outputs": [
    {
     "name": "stdout",
     "output_type": "stream",
     "text": [
      "np.linalg.lstsq(Z, y): \n",
      " (array([-6. ,  6.5]), array([3.19835777e-30]), np.int32(2), array([9.52551809, 0.51430058]))\n",
      "signal.resample(x, np.ceil(len(x)/q)): \n",
      " [3.5        2.26393202 5.5        6.5        9.73606798]\n"
     ]
    }
   ],
   "source": [
    "Z = np.array([[1, 2], \n",
    "              [3, 4], \n",
    "              [5, 6]])\n",
    "y = np.array([7, 8, 9])\n",
    "# np.linalg.lstsq(Z, y)\n",
    "print(\"np.linalg.lstsq(Z, y): \\n\", np.linalg.lstsq(Z, y))\n",
    "\n",
    "from scipy import signal\n",
    "# signal.resample(x, np.ceil(len(x)/q))\n",
    "x = np.array([1, 2, 3, 4, 5, 6, 7, 8, 9, 10])\n",
    "q = 2\n",
    "print(\"signal.resample(x, np.ceil(len(x)/q)): \\n\", signal.resample(x, int(np.ceil(len(x)/q))))\n",
    "\n",
    "\n"
   ]
  },
  {
   "cell_type": "code",
   "execution_count": 42,
   "id": "12802f74",
   "metadata": {},
   "outputs": [
    {
     "name": "stdout",
     "output_type": "stream",
     "text": [
      "np.unique(a): \n",
      " [1 2 3 4 5]\n",
      "a.squeeze(): \n",
      " [[1 2 2 3 4 4 5]\n",
      " [1 2 2 3 4 4 5]]\n"
     ]
    }
   ],
   "source": [
    "# np.unique(a)\n",
    "a = np.array([[[1, 2, 2, 3, 4, 4, 5], [1, 2, 2, 3, 4, 4, 5]]])\n",
    "print(\"np.unique(a): \\n\", np.unique(a))\n",
    "\n",
    "# a.squeeze()\n",
    "print(\"a.squeeze(): \\n\", a.squeeze())\n",
    "\n"
   ]
  },
  {
   "cell_type": "code",
   "execution_count": 43,
   "id": "f09803bb",
   "metadata": {},
   "outputs": [
    {
     "data": {
      "image/png": "[encoded data removed]",
      "text/plain": [
       "<Figure size 640x480 with 1 Axes>"
      ]
     },
     "metadata": {},
     "output_type": "display_data"
    }
   ],
   "source": [
    "import matplotlib.pyplot as plt\n",
    "plt.plot([1,2,3,4], [1,2,7,14])\n",
    "plt.axis([0, 6, 0, 20])\n",
    "plt.show()"
   ]
  },
  {
   "cell_type": "code",
   "execution_count": 44,
   "id": "562790f8",
   "metadata": {},
   "outputs": [
    {
     "data": {
      "image/png": "[encoded data removed]",
      "text/plain": [
       "<Figure size 640x480 with 1 Axes>"
      ]
     },
     "metadata": {},
     "output_type": "display_data"
    }
   ],
   "source": [
    "x = np.linspace(0, 2 * np.pi)\n",
    "y = np.sin(x)\n",
    "\n",
    "plt.plot(x, y)\n",
    "\n",
    "plt.title(\"Sine Wave\")\n",
    "plt.xlabel(\"X: radians\")\n",
    "plt.ylabel(\"Y: sin(x)\")\n",
    "plt.grid(True)\n",
    "\n",
    "plt.show()"
   ]
  }
 ],
 "metadata": {
  "kernelspec": {
   "display_name": "576-A0",
   "language": "python",
   "name": "python3"
  },
  "language_info": {
   "codemirror_mode": {
    "name": "ipython",
    "version": 3
   },
   "file_extension": ".py",
   "mimetype": "text/x-python",
   "name": "python",
   "nbconvert_exporter": "python",
   "pygments_lexer": "ipython3",
   "version": "3.12.11"
  }
 },
 "nbformat": 4,
 "nbformat_minor": 5
}
